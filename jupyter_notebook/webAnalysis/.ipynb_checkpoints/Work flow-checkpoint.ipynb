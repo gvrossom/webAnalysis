{
 "cells": [
  {
   "cell_type": "markdown",
   "metadata": {},
   "source": [
    "# Data Analysis\n",
    "\n",
    "\n",
    "## Collect data on lobbies in Europe\n",
    "\n",
    "The file collect_lobby_data read the xml file containing the list of lobbies (lobby_list.xml)[http://ec.europa.eu/transparencyregister/public/consultation/reportControllerPager.do?d-1924860-export=xml&categories=42]\n",
    "Extract the domain from each lobby's website column.\n",
    "Write the file \"hits_data.json\" showing how many hits each domain has and the record list to retrieve the raw data. (the number of hits serves as an indicator for the domain size). Domain with many hits have more content under their domain.\n",
    "\n",
    "A few quick visualisations show the extend to which domain size vary.\n",
    "\n",
    "\n",
    "The file \"download_warc_files\" download the related files on CommonCrowl and extract the clean domain from the links found on each domain. Then writes the content in \"master_data.json\".\n",
    "It provides also quick visualisations.\n",
    "\n",
    "\n",
    "# Crunch data\n",
    "\n",
    "Visualisation based on data produced above. Load \"master_data.json\".\n"
   ]
  }
 ],
 "metadata": {
  "kernelspec": {
   "display_name": "Python 2",
   "language": "python",
   "name": "python2"
  },
  "language_info": {
   "codemirror_mode": {
    "name": "ipython",
    "version": 2
   },
   "file_extension": ".py",
   "mimetype": "text/x-python",
   "name": "python",
   "nbconvert_exporter": "python",
   "pygments_lexer": "ipython2",
   "version": "2.7.12"
  }
 },
 "nbformat": 4,
 "nbformat_minor": 1
}
