{
 "cells": [
  {
   "cell_type": "code",
   "execution_count": 15,
   "metadata": {
    "collapsed": false,
    "scrolled": true
   },
   "outputs": [
    {
     "data": {
      "text/plain": [
       "{u'hits': 1402,\n",
       " u'record': {u'digest': u'3I42H3S6NNFQ2MSVX7XZKYAYSCX5QBYJ',\n",
       "  u'filename': u'crawl-data/CC-MAIN-2016-40/segments/1474738660801.77/warc/CC-MAIN-20160924173740-00129-ip-10-143-35-109.ec2.internal.warc.gz',\n",
       "  u'length': u'789',\n",
       "  u'mime': u'text/html',\n",
       "  u'offset': u'455334864',\n",
       "  u'status': u'200',\n",
       "  u'timestamp': u'20160926141432',\n",
       "  u'url': u'http://www.facebook.com/ajax/report.php?type=7&cid=483827&rid=640715835&cid2=1507715784&cid3=30838876&h=e06cae1424',\n",
       "  u'urlkey': u'com,facebook)/ajax/report.php?cid=483827&cid2=1507715784&cid3=30838876&h=e06cae1424&rid=640715835&type=7'}}"
      ]
     },
     "execution_count": 15,
     "metadata": {},
     "output_type": "execute_result"
    }
   ],
   "source": [
    "import json\n",
    "\n",
    "with open(\"master_data.json\", \"r\") as f:\n",
    "    data = json.load(f)\n"
   ]
  },
  {
   "cell_type": "code",
   "execution_count": 16,
   "metadata": {
    "collapsed": false
   },
   "outputs": [],
   "source": [
    "vectors = {}\n",
    "\n",
    "for domain in data.keys():\n",
    "    try:\n",
    "        vectors[domain]=data[domain]['links']\n",
    "    except:\n",
    "        vectors[domain]=[]\n",
    "\n",
    "# {'food.cloud:[]}\n",
    "backlink_data = {}\n",
    "\n",
    "def domain_is_in_vector(domain, vector):\n",
    "    if domain in vector:\n",
    "        return True\n",
    "    return False\n",
    "\n",
    "for domain in vectors.keys():\n",
    "    backlink_data[domain] = []\n",
    "    #print domain, vectors[domain]\n",
    "    for key in vectors.keys():\n",
    "        if domain_is_in_vector(domain, vectors[key]):\n",
    "            backlink_data[domain].append(key)\n"
   ]
  },
  {
   "cell_type": "code",
   "execution_count": 17,
   "metadata": {
    "collapsed": false
   },
   "outputs": [
    {
     "name": "stdout",
     "output_type": "stream",
     "text": [
      "Here: eu-patient.eu [u'pef.hu']\n",
      "Here: ehff.eu [u'ehma.org']\n",
      "Here: seecel.hr [u'euprovet.eu']\n",
      "Here: oeamtc.at [u'citainsp.org']\n",
      "Here: nhsconfed.org [u'ehma.org']\n",
      "Here: eupha.org [u'ehma.org']\n",
      "Here: jci.cc [u'letsdoitworld.org']\n",
      "Here: eustafor.eu [u'forestplatform.org']\n",
      "Here: mhe-sme.org [u'pef.hu']\n",
      "Here: zerowasteeurope.eu [u'letsdoitworld.org']\n",
      "Here: efvet.org [u'euprovet.eu']\n",
      "Here: naturskyddsforeningen.se [u'ccb.se']\n",
      "Here: eurohealthnet.eu [u'ehma.org']\n",
      "Here: bellona.org [u'zeroemissionsplatform.eu']\n",
      "Here: best.eu.org [u'letsdoitworld.org']\n",
      "Here: actionaid.it [u'actionaid.org']\n",
      "Here: euprimarycare.org [u'ehma.org']\n",
      "Here: creativecommons.org [u'feditobxl.be', u'bkj.de', u'actionaid.org', u'cesap.net', u'bof.nl']\n",
      "Here: eu40.eu [u'animaltaskforce.eu']\n",
      "Here: youthforum.org [u'youthpress.org']\n",
      "Here: birmingham.ac.uk [u'ehma.org']\n",
      "Here: alda-europe.eu [u'hrvzz.hr']\n",
      "Here: eaza.net [u'nvddierentuinen.nl']\n",
      "Here: yacadeuro.org [u'ae-info.org']\n",
      "Here: europeanprojects.org [u'seecel.hr']\n",
      "Here: facebook.com [u'food.cloud', u'youthpress.org', u'ebmt.org', u'scis.org.uk', u'cisasite.nl', u'santegidio.be', u'eu-patient.eu', u'feditobxl.be', u'elard.eu', u'losp.lv', u'apram.com', u'nibud.nl', u'shoahlegacy.org', u'fia-actors.com', u'wwf.org.uk', u'iaf.org', u'pef.hu', u'volontarideuropa.org', u'drytoilet.org', u'face.eu', u'rj.se', u'efus.eu', u'eurotox.com', u'sportvisserijnederland.nl', u'pleii.org', u'feedbackglobal.org', u'its-finland.fi', u'hrvzz.hr', u'phyto-victimes.fr', u'keepnorthernirelandbeautiful.org', u'tasz.hu', u'weed-online.org', u'WWW.adrmuntenia.ro', u'gwec.net', u'bertelsmann-stiftung.de', u'mnlf.it', u'actionaid.org', u'verdensskove.org', u'startupcyprus.org', u'consumerwatchdog.org', u'lipu.it', u'southernenvironment.org', u'iaphworldports.org', u'oeamtc.at', u'multikulturalizm.gov.az', u'aaas.org', u'hamburg1.de', u'euchems.eu', u'pewtrusts.org', u'wemos.nl', u'bio.nrw.de', u'citainsp.org', u'ecdlfoundation.org', u'lezenenschrijven.nl', u'phaeurope.org', u'bof.nl', u'foster-europe.org', u'fend.org', u'debatingmobility.eu', u'cap-international.org', u'energy-cities.eu', u'bdsnet.de', u'eps.org', u'ccb.se', u'pchalliance.org', u'v-a.se', u'f-enlace.org']\n",
      "Here: crossborder.ie [u'transfrontier.eu']\n"
     ]
    }
   ],
   "source": [
    "for key in backlink_data.keys():\n",
    "    if len(backlink_data[key]) > 0:\n",
    "        print \"Here:\", key, backlink_data[key]"
   ]
  }
 ],
 "metadata": {
  "kernelspec": {
   "display_name": "Python 2",
   "language": "python",
   "name": "python2"
  },
  "language_info": {
   "codemirror_mode": {
    "name": "ipython",
    "version": 2
   },
   "file_extension": ".py",
   "mimetype": "text/x-python",
   "name": "python",
   "nbconvert_exporter": "python",
   "pygments_lexer": "ipython2",
   "version": "2.7.12"
  }
 },
 "nbformat": 4,
 "nbformat_minor": 1
}
